{
 "cells": [
  {
   "cell_type": "code",
   "execution_count": 1,
   "metadata": {
    "collapsed": true
   },
   "outputs": [],
   "source": [
    "import requests\n",
    "from bs4 import BeautifulSoup\n"
   ]
  },
  {
   "cell_type": "code",
   "execution_count": null,
   "metadata": {
    "collapsed": true
   },
   "outputs": [],
   "source": [
    "##### INDEED #####\n",
    "\n",
    "# a job posting website (as well as resume hosting)\n",
    "# scrape some (or A LOT) of job postings from indeed for the job \"data scientist\"\n",
    "# Plan of Action:\n",
    "# 1. Figure out the url for getting the summaries (by doing it yourself!)\n",
    "# 2. Scrape the summary\n",
    "# 3. Figure out how to change the page by changing the URL (hint, click the next page button and see how the url changes)\n",
    "# 4. BONUS: count the most used words in the sumaries\n"
   ]
  },
  {
   "cell_type": "code",
   "execution_count": 3,
   "metadata": {
    "collapsed": true
   },
   "outputs": [],
   "source": [
    "job_title='Data-Scientist-jobs'"
   ]
  },
  {
   "cell_type": "code",
   "execution_count": 4,
   "metadata": {
    "collapsed": false
   },
   "outputs": [],
   "source": [
    "r = requests.get('http://www.indeed.com/q='+job_title)"
   ]
  },
  {
   "cell_type": "code",
   "execution_count": 8,
   "metadata": {
    "collapsed": true
   },
   "outputs": [],
   "source": [
    "b = BeautifulSoup(r.text, 'html.parser')"
   ]
  },
  {
   "cell_type": "code",
   "execution_count": 9,
   "metadata": {
    "collapsed": false
   },
   "outputs": [
    {
     "data": {
      "text/plain": [
       "[<br/>,\n",
       " <br>\\n<div class=\"sjcl\">\\n<span class=\"company\">\\n<a class=\"turnstileLink\" data-tn-element=\"companyName\" href=\"/cmp/Indeed?from=SERP&amp;campaignid=serp-linkcompanyname&amp;fromjk=b892a5a9e9607cd8&amp;jcid=d6ef41e202aa2c0b\" target=\"_blank\">\\n    Indeed</a></span>\\n\\n - <a class=\"ratingsLabel\" data-tn-element=\"reviewStars\" data-tn-variant=\"cmplinktst2\" href=\"/cmp/Indeed/reviews?jcid=d6ef41e202aa2c0b\" onmousedown=\"this.href = appendParamsOnce(this.href, '?campaignid=cmplinktst2&amp;from=SERP&amp;jt=Data+Scientist&amp;fromjk=b892a5a9e9607cd8');\" target=\"_blank\" title=\"Indeed reviews\">\\n<span class=\"ratings\"><span class=\"rating\" style=\"width:49.5px;\"><!-- --></span></span><span class=\"slNoUnderline\">118 reviews</span></a>\\n - <span class=\"location\">San Francisco, CA</span>\\n</div>\\n<table border=\"0\" cellpadding=\"0\" cellspacing=\"0\"><tr><td class=\"snip\">\\n<span class=\"summary\">How A <b>Data</b> <b>Scientist</b> Works. Work experience analyzing lots of <b>data</b>, for example in biotechnology, astrophysics or particle physics experiments, quantitative...</span>\\n</td></tr></table>\\n<div class=\"iaP\">\\n<span class=\"iaLabel\"> Easily apply</span>\\n</div>\\n<div class=\"result-link-bar-container\">\\n<div class=\"result-link-bar\"><span class=\"date\">30+ days ago</span> <span class=\"tt_set\" id=\"tt_set_10\">  -  <a class=\"sl resultLink tellafriend-link \" href=\"mailto:?subject=I found this job on Indeed&amp;body=http://www.indeed.com\" onclick=\"toggleTellAFriend('b892a5a9e9607cd8', 10, true); return false;\">email</a></span><div class=\"edit_note_content\" id=\"editsaved2_b892a5a9e9607cd8\" style=\"display:none;\"></div><script>window['sj_result_b892a5a9e9607cd8'] = {\"showSource\": false, \"source\": \"Indeed\", \"loggedIn\": false, \"showMyJobsLinks\": true,\"undoAction\": \"unsave\",\"relativeJobAge\": \"30+ days ago\",\"jobKey\": \"b892a5a9e9607cd8\", \"myIndeedAvailable\": true, \"tellAFriendEnabled\": true, \"showMoreActionsLink\": false, \"resultNumber\": 10, \"jobStateChangedToSaved\": false, \"searchState\": \"q=data scientist&amp;\", \"basicPermaLink\": \"http://www.indeed.com\", \"saveJobFailed\": false, \"removeJobFailed\": false, \"requestPending\": false, \"notesEnabled\": false, \"currentPage\" : \"serp\", \"sponsored\" : true, \"reportJobButtonEnabled\": false};</script></div></div>\\n<div class=\"tab-container\">\\n<div class=\"tellafriend-container result-tab email_job_content\"></div>\\n</div>\\n<span class=\"sdn\">Sponsored</span></br>,\n",
       " <br>\\n<div class=\"sjcl\">\\n<span class=\"company\">\\n<a class=\"turnstileLink\" data-tn-element=\"companyName\" href=\"/cmp/National-Security-Agency?from=SERP&amp;campaignid=serp-linkcompanyname&amp;fromjk=7e5018a16af5f8e8&amp;jcid=e8f18ca6180ec8da\" target=\"_blank\">\\n    National Security Agency</a></span>\\n\\n - <a class=\"ratingsLabel\" data-tn-element=\"reviewStars\" data-tn-variant=\"cmplinktst2\" href=\"/cmp/National-Security-Agency/reviews?jcid=e8f18ca6180ec8da\" onmousedown=\"this.href = appendParamsOnce(this.href, '?campaignid=cmplinktst2&amp;from=SERP&amp;jt=Data+Scientist&amp;fromjk=7e5018a16af5f8e8');\" target=\"_blank\" title=\"National Security Agency reviews\">\\n<span class=\"ratings\"><span class=\"rating\" style=\"width:47.300003px;\"><!-- --></span></span><span class=\"slNoUnderline\">71 reviews</span></a>\\n - <span class=\"location\">Fort George G Meade, MD</span>\\n<br>\\n$65,572 - $84,611 a year</br></div>\\n<table border=\"0\" cellpadding=\"0\" cellspacing=\"0\"><tr><td class=\"snip\">\\n<span class=\"summary\">Applied statistics, calculus, quantitative or statistical methods and techniques, <b>data</b> mining, informatics, <b>data</b> science, programming, computational algorithms,...</span>\\n</td></tr></table>\\n<div class=\"result-link-bar-container\">\\n<div class=\"result-link-bar\"><span class=\"date\">30+ days ago</span> <span class=\"tt_set\" id=\"tt_set_11\">  -  <a class=\"sl resultLink tellafriend-link \" href=\"mailto:?subject=I found this job on Indeed&amp;body=http://www.indeed.com\" onclick=\"toggleTellAFriend('7e5018a16af5f8e8', 11, true); return false;\">email</a></span><div class=\"edit_note_content\" id=\"editsaved2_7e5018a16af5f8e8\" style=\"display:none;\"></div><script>window['sj_result_7e5018a16af5f8e8'] = {\"showSource\": false, \"source\": \"National Security Agency\", \"loggedIn\": false, \"showMyJobsLinks\": true,\"undoAction\": \"unsave\",\"relativeJobAge\": \"30+ days ago\",\"jobKey\": \"7e5018a16af5f8e8\", \"myIndeedAvailable\": true, \"tellAFriendEnabled\": true, \"showMoreActionsLink\": false, \"resultNumber\": 11, \"jobStateChangedToSaved\": false, \"searchState\": \"q=data scientist&amp;\", \"basicPermaLink\": \"http://www.indeed.com\", \"saveJobFailed\": false, \"removeJobFailed\": false, \"requestPending\": false, \"notesEnabled\": false, \"currentPage\" : \"serp\", \"sponsored\" : true, \"reportJobButtonEnabled\": false};</script></div></div>\\n<div class=\"tab-container\">\\n<div class=\"tellafriend-container result-tab email_job_content\"></div>\\n</div>\\n<span class=\"sdn\">Sponsored</span></br>,\n",
       " <br>\\n$65,572 - $84,611 a year</br>,\n",
       " <br>\\n<div class=\"sjcl\">\\n<span class=\"company\">\\n<a class=\"turnstileLink\" data-tn-element=\"companyName\" href=\"/cmp/The-Washington-Post?from=SERP&amp;campaignid=serp-linkcompanyname&amp;fromjk=741ea34c19ac4491&amp;jcid=9502fdf46127ff92\" target=\"_blank\">\\n    The Washington Post</a></span>\\n\\n - <a class=\"ratingsLabel\" data-tn-element=\"reviewStars\" data-tn-variant=\"cmplinktst2\" href=\"/cmp/The-Washington-Post/reviews?jcid=9502fdf46127ff92\" onmousedown=\"this.href = appendParamsOnce(this.href, '?campaignid=cmplinktst2&amp;from=SERP&amp;jt=Data+Scientist&amp;fromjk=741ea34c19ac4491');\" target=\"_blank\" title=\"The Washington Post reviews\">\\n<span class=\"ratings\"><span class=\"rating\" style=\"width:41.8px;\"><!-- --></span></span><span class=\"slNoUnderline\">41 reviews</span></a>\\n - <span class=\"location\">Washington, DC</span>\\n</div>\\n<table border=\"0\" cellpadding=\"0\" cellspacing=\"0\"><tr><td class=\"snip\">\\n<span class=\"summary\"><b>Data</b> <b>scientist</b> will utilize the <b>data</b> from the platform and design and build systems that apply machine learning, statistical modeling, NLP (Natural Language...</span>\\n</td></tr></table>\\n<div class=\"result-link-bar-container\">\\n<div class=\"result-link-bar\"><span class=\"date\">14 days ago</span> <span class=\"tt_set\" id=\"tt_set_12\">  -  <a class=\"sl resultLink tellafriend-link \" href=\"mailto:?subject=I found this job on Indeed&amp;body=http://www.indeed.com\" onclick=\"toggleTellAFriend('741ea34c19ac4491', 12, true); return false;\">email</a></span><div class=\"edit_note_content\" id=\"editsaved2_741ea34c19ac4491\" style=\"display:none;\"></div><script>window['sj_result_741ea34c19ac4491'] = {\"showSource\": false, \"source\": \"The Washington Post\", \"loggedIn\": false, \"showMyJobsLinks\": true,\"undoAction\": \"unsave\",\"relativeJobAge\": \"14 days ago\",\"jobKey\": \"741ea34c19ac4491\", \"myIndeedAvailable\": true, \"tellAFriendEnabled\": true, \"showMoreActionsLink\": false, \"resultNumber\": 12, \"jobStateChangedToSaved\": false, \"searchState\": \"q=data scientist&amp;\", \"basicPermaLink\": \"http://www.indeed.com\", \"saveJobFailed\": false, \"removeJobFailed\": false, \"requestPending\": false, \"notesEnabled\": false, \"currentPage\" : \"serp\", \"sponsored\" : true, \"reportJobButtonEnabled\": false};</script></div></div>\\n<div class=\"tab-container\">\\n<div class=\"tellafriend-container result-tab email_job_content\"></div>\\n</div>\\n<span class=\"sdn\">Sponsored</span></br>,\n",
       " <br>\\n<div class=\"sjcl\">\\n<span class=\"company\">\\n<a class=\"turnstileLink\" data-tn-element=\"companyName\" href=\"/cmp/GM?from=SERP&amp;campaignid=serp-linkcompanyname&amp;fromjk=e925cf33f431908e&amp;jcid=116680a29a847a70\" target=\"_blank\">\\n    General Motors</a></span>\\n\\n - <a class=\"ratingsLabel\" data-tn-element=\"reviewStars\" data-tn-variant=\"cmplinktst2\" href=\"/cmp/GM/reviews?jcid=116680a29a847a70\" onmousedown=\"this.href = appendParamsOnce(this.href, '?campaignid=cmplinktst2&amp;from=SERP&amp;jt=Data+Scientist&amp;fromjk=e925cf33f431908e');\" target=\"_blank\" title=\"General Motors reviews\">\\n<span class=\"ratings\"><span class=\"rating\" style=\"width:45.1px;\"><!-- --></span></span><span class=\"slNoUnderline\">1,347 reviews</span></a>\\n - <span class=\"location\">Austin, TX</span>\\n</div>\\n<table border=\"0\" cellpadding=\"0\" cellspacing=\"0\"><tr><td class=\"snip\">\\n<span class=\"summary\">The <b>Data</b> <b>Scientist</b> will work with other organizations in the architecture, technology strategy &amp; execution of vision for hyper scale <b>data</b> analytics, statistical...</span>\\n</td></tr></table>\\n<div class=\"result-link-bar-container\">\\n<div class=\"result-link-bar\"><span class=\"date\">18 days ago</span> <span class=\"tt_set\" id=\"tt_set_13\">  -  <a class=\"sl resultLink tellafriend-link \" href=\"mailto:?subject=I found this job on Indeed&amp;body=http://www.indeed.com\" onclick=\"toggleTellAFriend('e925cf33f431908e', 13, true); return false;\">email</a></span><div class=\"edit_note_content\" id=\"editsaved2_e925cf33f431908e\" style=\"display:none;\"></div><script>window['sj_result_e925cf33f431908e'] = {\"showSource\": false, \"source\": \"General Motors\", \"loggedIn\": false, \"showMyJobsLinks\": true,\"undoAction\": \"unsave\",\"relativeJobAge\": \"18 days ago\",\"jobKey\": \"e925cf33f431908e\", \"myIndeedAvailable\": true, \"tellAFriendEnabled\": true, \"showMoreActionsLink\": false, \"resultNumber\": 13, \"jobStateChangedToSaved\": false, \"searchState\": \"q=data scientist&amp;\", \"basicPermaLink\": \"http://www.indeed.com\", \"saveJobFailed\": false, \"removeJobFailed\": false, \"requestPending\": false, \"notesEnabled\": false, \"currentPage\" : \"serp\", \"sponsored\" : true, \"reportJobButtonEnabled\": false};</script></div></div>\\n<div class=\"tab-container\">\\n<div class=\"tellafriend-container result-tab email_job_content\"></div>\\n</div>\\n<span class=\"sdn\">Sponsored</span></br>,\n",
       " <br>\\n<div class=\"sjcl\">\\n<span class=\"company\">\\n<a class=\"turnstileLink\" data-tn-element=\"companyName\" href=\"/cmp/Corelogic?from=SERP&amp;campaignid=serp-linkcompanyname&amp;fromjk=3ce79c197f8c823f&amp;jcid=67e7d62a7f3782fd\" target=\"_blank\">\\n    CoreLogic</a></span>\\n\\n - <a class=\"ratingsLabel\" data-tn-element=\"reviewStars\" data-tn-variant=\"cmplinktst2\" href=\"/cmp/Corelogic/reviews?jcid=67e7d62a7f3782fd\" onmousedown=\"this.href = appendParamsOnce(this.href, '?campaignid=cmplinktst2&amp;from=SERP&amp;jt=Data+Scientist&amp;fromjk=3ce79c197f8c823f');\" target=\"_blank\" title=\"Corelogic reviews\">\\n<span class=\"ratings\"><span class=\"rating\" style=\"width:37.4px;\"><!-- --></span></span><span class=\"slNoUnderline\">215 reviews</span></a>\\n - <span class=\"location\">Irvine, CA</span>\\n</div>\\n<table border=\"0\" cellpadding=\"0\" cellspacing=\"0\"><tr><td class=\"snip\">\\n<span class=\"summary\">Develop analytics tool using SQL, R, Java, Perl, Python and big <b>data</b> tools such as Jaspersoft BI Suite, Talend Open Studio, Skytree Server, Tableau, and Splunk....</span>\\n</td></tr></table>\\n<div class=\"result-link-bar-container\">\\n<div class=\"result-link-bar\"><span class=\"date\">30+ days ago</span> <span class=\"tt_set\" id=\"tt_set_14\">  -  <a class=\"sl resultLink tellafriend-link \" href=\"mailto:?subject=I found this job on Indeed&amp;body=http://www.indeed.com\" onclick=\"toggleTellAFriend('3ce79c197f8c823f', 14, true); return false;\">email</a></span><div class=\"edit_note_content\" id=\"editsaved2_3ce79c197f8c823f\" style=\"display:none;\"></div><script>window['sj_result_3ce79c197f8c823f'] = {\"showSource\": false, \"source\": \"CoreLogic\", \"loggedIn\": false, \"showMyJobsLinks\": true,\"undoAction\": \"unsave\",\"relativeJobAge\": \"30+ days ago\",\"jobKey\": \"3ce79c197f8c823f\", \"myIndeedAvailable\": true, \"tellAFriendEnabled\": true, \"showMoreActionsLink\": false, \"resultNumber\": 14, \"jobStateChangedToSaved\": false, \"searchState\": \"q=data scientist&amp;\", \"basicPermaLink\": \"http://www.indeed.com\", \"saveJobFailed\": false, \"removeJobFailed\": false, \"requestPending\": false, \"notesEnabled\": false, \"currentPage\" : \"serp\", \"sponsored\" : true, \"reportJobButtonEnabled\": false};</script></div></div>\\n<div class=\"tab-container\">\\n<div class=\"tellafriend-container result-tab email_job_content\"></div>\\n</div>\\n<span class=\"sdn\">Sponsored</span></br>]"
      ]
     },
     "execution_count": 9,
     "metadata": {},
     "output_type": "execute_result"
    }
   ],
   "source": [
    "b.findAll('br')"
   ]
  },
  {
   "cell_type": "code",
   "execution_count": null,
   "metadata": {
    "collapsed": true
   },
   "outputs": [],
   "source": []
  },
  {
   "cell_type": "code",
   "execution_count": null,
   "metadata": {
    "collapsed": true
   },
   "outputs": [],
   "source": [
    "#### UFO ######\n",
    "\n",
    "# SCRAPE ALL SIGHTINGS in 2015\n",
    "# Plan of action\n",
    "# 1. Figure out the pattern to get a certain year and month from nuforc\n",
    "# 2. Scrape each sightings\n",
    "# 3. Make a dataframe out of it\n",
    "# 4. make a day column\n",
    "# 5. graph each day in 2015 and see which day had the most! (Is it July 4th?)"
   ]
  },
  {
   "cell_type": "code",
   "execution_count": null,
   "metadata": {
    "collapsed": true
   },
   "outputs": [],
   "source": []
  },
  {
   "cell_type": "code",
   "execution_count": null,
   "metadata": {
    "collapsed": true
   },
   "outputs": [],
   "source": [
    "##### TWITTER ######\n",
    "\n",
    "# Create a dataframe where each row is a tweet that uses any tag you choose!\n",
    "# include a column for date, text, user handle, user name, and user image\n",
    "# You can use the normal query method and not stream for this!"
   ]
  }
 ],
 "metadata": {
  "kernelspec": {
   "display_name": "Python 2",
   "language": "python",
   "name": "python2"
  },
  "language_info": {
   "codemirror_mode": {
    "name": "ipython",
    "version": 2
   },
   "file_extension": ".py",
   "mimetype": "text/x-python",
   "name": "python",
   "nbconvert_exporter": "python",
   "pygments_lexer": "ipython2",
   "version": "2.7.11"
  }
 },
 "nbformat": 4,
 "nbformat_minor": 0
}
